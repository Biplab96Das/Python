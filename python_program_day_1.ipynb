{
 "cells": [
  {
   "cell_type": "code",
   "execution_count": 1,
   "id": "f0162dff",
   "metadata": {},
   "outputs": [
    {
     "name": "stdout",
     "output_type": "stream",
     "text": [
      "The sum of given two numbers= 70\n"
     ]
    }
   ],
   "source": [
    "num1=30\n",
    "num2=40\n",
    "print(\"The sum of given two numbers=\",num1+num2)"
   ]
  },
  {
   "cell_type": "code",
   "execution_count": 3,
   "id": "05d8bb0e",
   "metadata": {},
   "outputs": [
    {
     "name": "stdout",
     "output_type": "stream",
     "text": [
      "The sum of given two numbers= 10\n"
     ]
    }
   ],
   "source": [
    "num1=6\n",
    "num2=4\n",
    "sum=num1+num2\n",
    "print(\"The sum of given two numbers=\",sum)"
   ]
  },
  {
   "cell_type": "code",
   "execution_count": 4,
   "id": "a9115c7c",
   "metadata": {},
   "outputs": [
    {
     "name": "stdout",
     "output_type": "stream",
     "text": [
      "enter a number here: 12.63\n",
      "enter another number: 23.54\n",
      "The sum:  36.17\n"
     ]
    }
   ],
   "source": [
    "# user input\n",
    "num1=float(input(\"enter a number here: \"))\n",
    "num2=float(input(\"enter another number: \"))\n",
    "print(\"The sum: \",num1+num2)"
   ]
  },
  {
   "cell_type": "code",
   "execution_count": 5,
   "id": "ff4648d9",
   "metadata": {},
   "outputs": [
    {
     "name": "stdout",
     "output_type": "stream",
     "text": [
      "Hello world!\n"
     ]
    }
   ],
   "source": [
    "# python Hello world!\n",
    "print(\"Hello world!\")"
   ]
  },
  {
   "cell_type": "code",
   "execution_count": 9,
   "id": "2b90216c",
   "metadata": {},
   "outputs": [
    {
     "name": "stdout",
     "output_type": "stream",
     "text": [
      "Enter a number here: 121\n",
      "the square root of the given number is 10.0\n",
      "the square root of the input number is 11.0\n",
      "enter the number here:144\n",
      "the squre-root of the number is : 12.0\n"
     ]
    }
   ],
   "source": [
    "# Find square-root of a number\n",
    "#Solution-1: Exponentiation\n",
    "num=100\n",
    "num1=int(input(\"Enter a number here: \"))\n",
    "sqrt=num**(1/2)\n",
    "sqrt1=num1**(1/2)\n",
    "print(\"the square root of the given number is\",sqrt)\n",
    "print(\"the square root of the input number is\",sqrt1)\n",
    "#solution-2: Math module\n",
    "import math\n",
    "num=int(input(\"enter the number here:\"))\n",
    "sr=math.sqrt(num)\n",
    "print(\"the squre-root of the number is :\",sr)"
   ]
  },
  {
   "cell_type": "code",
   "execution_count": 11,
   "id": "e9315744",
   "metadata": {},
   "outputs": [
    {
     "name": "stdout",
     "output_type": "stream",
     "text": [
      "enter the height of the triangle: 5\n",
      "enter the base of the triangle: 6\n",
      "The area of the triangle is:  15.0\n"
     ]
    }
   ],
   "source": [
    "#Python program to calculate area of a triangle\n",
    "height=float(input(\"enter the height of the triangle: \"))\n",
    "base=float(input(\"enter the base of the triangle: \"))\n",
    "area=(1/2)*height*base\n",
    "print(\"The area of the triangle is: \",area)"
   ]
  },
  {
   "cell_type": "code",
   "execution_count": 14,
   "id": "45df5ecd",
   "metadata": {},
   "outputs": [
    {
     "name": "stdout",
     "output_type": "stream",
     "text": [
      "insert x: 14\n",
      "insert y: 12\n",
      "x:  12.0\n",
      "y:  14.0\n",
      "again swapping\n",
      "x:  14.0\n",
      "y:  12.0\n"
     ]
    }
   ],
   "source": [
    "# Python program to swap to two variable\n",
    "# Solution-1:using third variable\n",
    "x=float(input(\"insert x: \"))\n",
    "y=float(input(\"insert y: \"))\n",
    "t=x\n",
    "x=y\n",
    "y=t\n",
    "print(\"x: \",x)\n",
    "print(\"y: \",y)\n",
    "#Solution-2:without using third variable\n",
    "x,y=y,x\n",
    "print(\"again swapping\")\n",
    "print(\"x: \",x)\n",
    "print(\"y: \",y)"
   ]
  },
  {
   "cell_type": "code",
   "execution_count": 17,
   "id": "242f9400",
   "metadata": {},
   "outputs": [
    {
     "name": "stdout",
     "output_type": "stream",
     "text": [
      "Insert distance in km: 5\n",
      "5.0 kilometers = 3.106855 miles\n"
     ]
    }
   ],
   "source": [
    "# Python program to convert km into miles\n",
    "km=float(input(\"Insert distance in km: \"))\n",
    "miles=(0.621371)*km\n",
    "print(km,\"kilometers =\",miles,\"miles\")"
   ]
  },
  {
   "cell_type": "code",
   "execution_count": 23,
   "id": "7c8e664d",
   "metadata": {},
   "outputs": [
    {
     "name": "stdout",
     "output_type": "stream",
     "text": [
      "insert the number: -75.29\n",
      "the number is negative.\n"
     ]
    }
   ],
   "source": [
    "# Python program to check whether a number a positive or zero or negative\n",
    "num=float(input(\"insert the number: \"))\n",
    "if num>0:\n",
    "    print(\"the number is positive.\")\n",
    "elif num==0:\n",
    "    print(\"the number is zero.\")\n",
    "else:\n",
    "    print(\"the number is negative.\")"
   ]
  },
  {
   "cell_type": "code",
   "execution_count": 26,
   "id": "a704bb21",
   "metadata": {},
   "outputs": [
    {
     "name": "stdout",
     "output_type": "stream",
     "text": [
      "enter the number: 26\n",
      "number is even.\n"
     ]
    }
   ],
   "source": [
    "# Python program to check whether a number is odd or even\n",
    "num=int(input(\"enter the number: \"))\n",
    "if num%2==0:\n",
    "    print(\"number is even.\")\n",
    "else:\n",
    "    print(\"number is odd.\")"
   ]
  },
  {
   "cell_type": "code",
   "execution_count": 30,
   "id": "f91a4f78",
   "metadata": {},
   "outputs": [
    {
     "name": "stdout",
     "output_type": "stream",
     "text": [
      "Enter the year: 3000\n",
      "3000 is not a leap year\n"
     ]
    }
   ],
   "source": [
    "# Program to check Leap year\n",
    "year=int(input(\"Enter the year: \"))\n",
    "if(year%400==0) and (year%100==0):\n",
    "    print(year, \"is a leap year\")\n",
    "elif(year%4==0) and (year%100!=0):\n",
    "    print(year,\"is a leap year\")\n",
    "else:\n",
    "    print(year,\"is not a leap year\")"
   ]
  },
  {
   "cell_type": "code",
   "execution_count": 31,
   "id": "dfd43e9b",
   "metadata": {},
   "outputs": [
    {
     "name": "stdout",
     "output_type": "stream",
     "text": [
      "enter first number: 12\n",
      "enter second number: 52\n",
      "enter third number: 4\n",
      "Largest number is:  52.0\n"
     ]
    }
   ],
   "source": [
    "# Python program to find greatest among three numbers\n",
    "num1=float(input(\"enter first number: \"))\n",
    "num2=float(input(\"enter second number: \"))\n",
    "num3=float(input(\"enter third number: \"))\n",
    "if(num1>num2)and(num1>num3):\n",
    "    print(\"Largest number is: \",num1)\n",
    "elif(num2>num1)and(num2>num3):\n",
    "    print(\"Largest number is: \",num2)\n",
    "else:\n",
    "    print(\"Largest number is: \",num3)"
   ]
  },
  {
   "cell_type": "code",
   "execution_count": 40,
   "id": "16e84285",
   "metadata": {},
   "outputs": [
    {
     "name": "stdout",
     "output_type": "stream",
     "text": [
      "insert the number: 17\n",
      "the number is prime\n"
     ]
    }
   ],
   "source": [
    "# Python program to check a number is prime or not\n",
    "num=int(input(\"insert the number: \"))\n",
    "if num==1:\n",
    "    print(\"the number is not prime\")\n",
    "elif num>=1:\n",
    "    for i in range(2,num-1):\n",
    "        if(num%i)==0:\n",
    "            print(\"the number is composite.\")\n",
    "            break\n",
    "    else:        \n",
    "        print(\"the number is prime\")"
   ]
  },
  {
   "cell_type": "code",
   "execution_count": null,
   "id": "a77aa10d",
   "metadata": {},
   "outputs": [],
   "source": []
  }
 ],
 "metadata": {
  "kernelspec": {
   "display_name": "Python 3 (ipykernel)",
   "language": "python",
   "name": "python3"
  },
  "language_info": {
   "codemirror_mode": {
    "name": "ipython",
    "version": 3
   },
   "file_extension": ".py",
   "mimetype": "text/x-python",
   "name": "python",
   "nbconvert_exporter": "python",
   "pygments_lexer": "ipython3",
   "version": "3.9.13"
  }
 },
 "nbformat": 4,
 "nbformat_minor": 5
}
